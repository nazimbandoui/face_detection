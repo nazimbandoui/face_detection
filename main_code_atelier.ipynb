{
 "metadata": {
  "language_info": {
   "codemirror_mode": {
    "name": "ipython",
    "version": 3
   },
   "file_extension": ".py",
   "mimetype": "text/x-python",
   "name": "python",
   "nbconvert_exporter": "python",
   "pygments_lexer": "ipython3",
   "version": "3.7.6-final"
  },
  "orig_nbformat": 2,
  "kernelspec": {
   "name": "python376jvsc74a57bd0874a3a394f8fdb3110804376a64b5f8c9bc80a904e3247394eda2c7dc8f938cd",
   "display_name": "Python 3.7.6 64-bit (conda)"
  }
 },
 "nbformat": 4,
 "nbformat_minor": 2,
 "cells": [
  {
   "source": [
    "Importing python libraries"
   ],
   "cell_type": "markdown",
   "metadata": {}
  },
  {
   "cell_type": "code",
   "execution_count": 15,
   "metadata": {},
   "outputs": [],
   "source": [
    "import numpy as np\n",
    "import cv2\n",
    "import matplotlib.pyplot as plt\n",
    "import sys\n",
    "from tqdm import tqdm"
   ]
  },
  {
   "source": [
    "Computes the MSE of two images\n",
    "\n",
    "    Args:\n",
    "        array1 ([numpy.ndarray]): First image\n",
    "        array2 ([numpy.ndarray]): Seccond image\n",
    "    Returns:\n",
    "        float : MSE error"
   ],
   "cell_type": "markdown",
   "metadata": {}
  },
  {
   "cell_type": "code",
   "execution_count": 16,
   "metadata": {},
   "outputs": [],
   "source": [
    "def mse(array1 , array2):\n",
    "    array1=array1.flatten()\n",
    "    array2=array2.flatten()\n",
    "    return np.sqrt(((array1 - array2)**2).mean())"
   ]
  },
  {
   "source": [
    "Computes and generate the gradient of a pixel at the coordinates (x,y) of the image img\n",
    "\n",
    "    Args:\n",
    "        img ([numpy.ndarray]): Array of the image\n",
    "        x ([int]): x position\n",
    "        y ([int]): y position\n",
    "\n",
    "    Returns:\n",
    "        float : magnitude of the gradient\n",
    "        direction : [direction of the gradient\n"
   ],
   "cell_type": "markdown",
   "metadata": {}
  },
  {
   "cell_type": "code",
   "execution_count": 17,
   "metadata": {},
   "outputs": [],
   "source": [
    "def gradiant(img,x,y):\n",
    "    gx=img[y+1][x]-img[y-1][x]\n",
    "    gy=img[x+1][y]-img[x-1][y]\n",
    "    magnitude = np.sqrt(gx**2+gy**2)\n",
    "    direction = np.sign(gy) * 90 if gx==0 else np.degrees(np.arctan(gy/gx))\n",
    "    return magnitude , direction"
   ]
  },
  {
   "source": [
    "Converts an img to LBP\n",
    "\n",
    "    Args:\n",
    "        img ([numpy.ndarray]): Source image\n",
    "\n",
    "    Returns:\n",
    "        [numpy.ndarray] : LBP filter image"
   ],
   "cell_type": "markdown",
   "metadata": {}
  },
  {
   "cell_type": "code",
   "execution_count": 18,
   "metadata": {},
   "outputs": [],
   "source": [
    "def lbp(img):\n",
    "\n",
    "    img = np.pad(img, 1, mode=\"edge\")\n",
    "    new_img = np.zeros(img.shape)\n",
    "    for j in range(1, new_img.shape[0]-1):\n",
    "        for i in range(1,  new_img.shape[1]-1):\n",
    "            vector = []\n",
    "            center_value=img[j][i]\n",
    "            vector.append(0 if img[j-1][i+1] >= center_value else 1)\n",
    "            vector.append(0 if img[j][i+1] >= center_value else 1)\n",
    "            vector.append(0 if img[j+1][i+1] >= center_value else 1)\n",
    "            vector.append(0 if img[j+1][i] >= center_value else 1)\n",
    "            vector.append(0 if img[j+1][i-1] >= center_value else 1)\n",
    "            vector.append(0 if img[j][i-1] >= center_value else 1)\n",
    "            vector.append(0 if img[j-1][i-1] >= center_value else 1)\n",
    "            vector.append(0 if img[j-1][i] >= center_value else 1)\n",
    "            new_img[j][i] = np.sum(np.multiply(vector, [1, 2, 4, 8, 16, 32, 64, 128]))\n",
    "    return new_img[1:new_img.shape[0]-1:1,1:new_img.shape[1]-1]\n"
   ]
  },
  {
   "source": [
    "Apply hog to an img and extracts the direction\n",
    "\n",
    "    Args:\n",
    "        image ([type]): [description]\n",
    "\n",
    "    Returns:\n",
    "        [type]: [description]"
   ],
   "cell_type": "markdown",
   "metadata": {}
  },
  {
   "cell_type": "code",
   "execution_count": 19,
   "metadata": {},
   "outputs": [],
   "source": [
    "def generateDirections(image):\n",
    "    direction=[]\n",
    "    image = np.pad(image, 1, mode=\"edge\")\n",
    "    for j in range(1, image.shape[0]-1):\n",
    "        for i in range(1,  image.shape[1]-1):\n",
    "            direction.append(gradiant(image,j,i)[1])\n",
    "    return direction\n"
   ]
  },
  {
   "source": [
    "Creates an image's histogram with LBP filter\n",
    "\n",
    "    Args:\n",
    "        image (numpy.ndarray): Source image\n",
    "\n",
    "    Returns:\n",
    "        numpy.ndarray: Histogram of the source image\n",
    "    \"\"\""
   ],
   "cell_type": "markdown",
   "metadata": {}
  },
  {
   "cell_type": "code",
   "execution_count": 20,
   "metadata": {},
   "outputs": [],
   "source": [
    "def getHist(image):\n",
    "    toret=np.zeros(256)\n",
    "    unique=np.unique(image , return_counts=True)\n",
    "    for i in range(0,len(unique[0])):\n",
    "        toret[int(unique[0][i])] = unique[1][i]\n",
    "    return toret"
   ]
  },
  {
   "source": [
    "Generates HOG's array from another array , i choosed to divide it into 8 possible directions (from 0 to 180) with an offset of 90 , each\n",
    "class has a span of 22.5\n",
    "\n",
    "    Args:\n",
    "        array ([numpy.ndarray]): input array\n",
    "\n",
    "    Returns:\n",
    "        [numpy.ndarray]: histogram of the input array \n",
    "    \"\"\""
   ],
   "cell_type": "markdown",
   "metadata": {}
  },
  {
   "cell_type": "code",
   "execution_count": 21,
   "metadata": {},
   "outputs": [],
   "source": [
    "def getHog(array):\n",
    "\n",
    "    toret = np.zeros(9)\n",
    "    for i in array:\n",
    "        index=int((i+90)/22.5)\n",
    "        toret[index]+=1\n",
    "    return toret"
   ]
  },
  {
   "source": [
    "returns the histograms of an image after dividing it in sizexsize blocks and applying lbp filter\n",
    "\n",
    "    Args:\n",
    "        image ('numpy.ndarray'): Source image\n",
    "        size ('int'): size of the block\n",
    "\n",
    "    Returns:\n",
    "        'numpy.ndarray': the histograms of sizexsize divided image"
   ],
   "cell_type": "markdown",
   "metadata": {}
  },
  {
   "cell_type": "code",
   "execution_count": 22,
   "metadata": {},
   "outputs": [],
   "source": [
    "def divBloc(image,size):\n",
    "    histograms = []\n",
    "    hog=[]\n",
    "    image = np.pad(image, 1, mode=\"edge\")\n",
    "    for j in range(1,image.shape[0]-1,size):\n",
    "        for i in range(1,image.shape[1]-1,size):\n",
    "            crop = image[j:j+size,i:i+size]\n",
    "            crop_lbp = lbp(crop)\n",
    "            histograms.append(getHist(crop_lbp))\n",
    "    return np.array(histograms)"
   ]
  },
  {
   "source": [
    "returns the histograms of an image after dividing it in sizexsize blocks and applying hog\n",
    "\n",
    "    Args:\n",
    "        image ('numpy.ndarray'): Source image\n",
    "        size ('int'): size of the block\n",
    "\n",
    "    Returns:\n",
    "        'numpy.ndarray': the histograms of sizexsize divided image"
   ],
   "cell_type": "markdown",
   "metadata": {}
  },
  {
   "cell_type": "code",
   "execution_count": 23,
   "metadata": {},
   "outputs": [],
   "source": [
    "def divBlochog(image,size):\n",
    "    hog=[]\n",
    "    image = np.pad(image, 1, mode=\"edge\")\n",
    "    for j in range(1,image.shape[0]-1,size):\n",
    "        for i in range(1,image.shape[1]-1,size):\n",
    "            crop = image[j:j+size,i:i+size]\n",
    "            crop_hog = generateDirections(crop)\n",
    "            hog.append(getHog(crop_hog))\n",
    "    return  np.array(hog)"
   ]
  },
  {
   "source": [
    "Main code"
   ],
   "cell_type": "markdown",
   "metadata": {}
  },
  {
   "source": [
    "Load the haar features cascade"
   ],
   "cell_type": "markdown",
   "metadata": {}
  },
  {
   "cell_type": "code",
   "execution_count": 24,
   "metadata": {},
   "outputs": [],
   "source": [
    "face_cascade = cv2.CascadeClassifier('haarcascade_frontalface_default.xml')"
   ]
  },
  {
   "source": [
    "Loading the imagges from the dataset and applyting LBP and HOG"
   ],
   "cell_type": "markdown",
   "metadata": {}
  },
  {
   "cell_type": "code",
   "execution_count": 25,
   "metadata": {},
   "outputs": [
    {
     "output_type": "stream",
     "name": "stderr",
     "text": [
      "  0%|          | 0/27 [00:00<?, ?it/s]ipykernel_launcher:2: RuntimeWarning: overflow encountered in ubyte_scalars\n",
      "ipykernel_launcher:3: RuntimeWarning: overflow encountered in ubyte_scalars\n",
      "100%|██████████| 27/27 [00:15<00:00,  1.76it/s]\n"
     ]
    }
   ],
   "source": [
    "bloc_size=8\n",
    "num_images=27\n",
    "lbp_reference_hist=[]\n",
    "hog_reference_hist=[]\n",
    "for i in tqdm(range(1,num_images+1)):\n",
    "    try :\n",
    "        temp=cv2.imread('src\\\\'+str(i)+'.jpg')\n",
    "        temp=cv2.cvtColor(temp, cv2.COLOR_BGR2GRAY)\n",
    "        faces = face_cascade.detectMultiScale(temp, 1.1, 4)\n",
    "        for (x, y, w, h) in faces:\n",
    "            temp=cv2.resize(temp[y:y+h,x:x+w],(64,128))\n",
    "            temp_lbp=np.copy(temp)\n",
    "            lbp_reference_hist.append(divBloc(temp_lbp,bloc_size))\n",
    "            hog_reference_hist.append(divBlochog(temp,bloc_size))\n",
    "    except :\n",
    "        print(i)"
   ]
  },
  {
   "source": [
    "Capture video from webcam"
   ],
   "cell_type": "markdown",
   "metadata": {}
  },
  {
   "cell_type": "code",
   "execution_count": 26,
   "metadata": {},
   "outputs": [],
   "source": [
    "cap = cv2.VideoCapture(0)"
   ]
  },
  {
   "source": [
    "Main loop"
   ],
   "cell_type": "markdown",
   "metadata": {}
  },
  {
   "cell_type": "code",
   "execution_count": 27,
   "metadata": {},
   "outputs": [
    {
     "output_type": "stream",
     "name": "stderr",
     "text": [
      "ipykernel_launcher:2: RuntimeWarning: overflow encountered in ubyte_scalars\n",
      "ipykernel_launcher:3: RuntimeWarning: overflow encountered in ubyte_scalars\n",
      "156.82501973164773\n",
      "147.70636249158864\n",
      "163.18641194643695\n",
      "129.08999401850915\n",
      "159.72676167398689\n",
      "123.92708319084049\n",
      "122.98363302746372\n",
      "125.56800147822646\n",
      "123.00804285794281\n",
      "125.49169535589405\n",
      "123.70955944267922\n",
      "126.46790456705432\n",
      "124.24957138201643\n",
      "123.70330681946805\n",
      "128.62923425318155\n",
      "153.9146511790062\n",
      "160.71362591826644\n",
      "157.73280322209823\n",
      "160.58930013751694\n",
      "161.29683381705314\n",
      "158.34008565429858\n",
      "145.13080464207084\n",
      "162.43774424990406\n",
      "141.65064038247385\n",
      "164.49124804329207\n",
      "144.84869026106495\n",
      "161.8344525449283\n",
      "145.58708210159756\n",
      "144.12857106488318\n",
      "140.0998851288159\n",
      "146.6728360895877\n",
      "143.91768821338803\n",
      "161.26163776697075\n",
      "146.7654104463857\n",
      "143.6101272542066\n",
      "140.2994305563453\n",
      "143.92549664060465\n",
      "149.02709314733528\n",
      "163.45012437770984\n",
      "146.34580281420128\n",
      "162.97799593422008\n",
      "145.39672155506486\n",
      "145.60076936007277\n",
      "144.99749152604602\n",
      "146.32254783287635\n",
      "140.18926100066682\n",
      "146.3910860063755\n",
      "146.16707168344902\n",
      "148.79033356591282\n",
      "146.61429786203504\n",
      "146.14202113664282\n",
      "142.36722243874246\n",
      "147.0227290641792\n",
      "144.73248565738663\n",
      "132.00296142051712\n",
      "140.71554567761143\n",
      "139.02720705819897\n",
      "175.17338462759045\n",
      "150.07981738697626\n",
      "155.9026953937624\n",
      "166.80427881131948\n",
      "145.5608979647544\n",
      "153.71973983091172\n",
      "149.24258852274693\n",
      "152.26141993404377\n",
      "148.2892952065895\n",
      "145.68450999852547\n",
      "146.2382792817807\n",
      "145.17042872347906\n",
      "151.10239611365492\n",
      "163.03144288324052\n",
      "163.87670289034867\n",
      "139.16039031614844\n",
      "206.96579915042915\n",
      "182.55568298737015\n",
      "192.69347213988232\n",
      "192.17981708218858\n",
      "194.93395779078767\n",
      "177.9795982588868\n",
      "173.66390357076318\n",
      "163.37788016077783\n",
      "169.3785059427264\n",
      "211.2158295838321\n",
      "205.37172326434188\n",
      "214.51836774844256\n",
      "232.48713065886372\n",
      "164.65769080743678\n",
      "138.43484160057127\n",
      "148.3767725597383\n",
      "151.23109379533759\n",
      "160.43026361240743\n",
      "154.0536020404013\n"
     ]
    }
   ],
   "source": [
    "while True:\n",
    "    _, img = cap.read() #Read the image given by the cam and puts it in img\n",
    "    gray = cv2.cvtColor(img, cv2.COLOR_BGR2GRAY) #converts img to grayscale\n",
    "    faces = face_cascade.detectMultiScale(gray, 1.1, 4) #apllies hog features and detects al lfaces in the image\n",
    "    facesResized =[]\n",
    "    for (x, y, w, h) in faces: #for each face in the image\n",
    "        img_resized=cv2.resize(gray[y:y+h,x:x+w],(64,128)) # Exctracts the face and resize it into 64x128 format\n",
    "        lbp_image_hist = divBloc(img_resized,bloc_size) # apply lbp to the resized face\n",
    "        hog_image_hist=divBlochog(img_resized,bloc_size) # apply hog to the resized face\n",
    "\n",
    "        error=0\n",
    "        for i in range (0,len(lbp_reference_hist)): # for each dataset image\n",
    "            # computes mse between the current image and the image i from the dataset and summs the error\n",
    "            error+=(mse(lbp_image_hist,lbp_reference_hist[i])) \n",
    "            error+=(mse(hog_image_hist,hog_reference_hist[i]))\n",
    "        color = (0, 0, 255)\n",
    "        if error < 157 : # if the total sum is < to a certain treshhold , considers the face in the dataset as BANDOUI Nazim\n",
    "            color = (0, 255, 0)\n",
    "        print(error)\n",
    "        # Draw the rectangle around each face\n",
    "        cv2.rectangle(img, (x, y), (x+w, y+h), color, 2)\n",
    "    try :\n",
    "        cv2.imshow('BANDOUI NAZIIM - PROJET ATELIER CREATIF', img)\n",
    "    except :\n",
    "        pass\n",
    "    if cv2.waitKey(1) & 0xFF == ord('q'):\n",
    "        break"
   ]
  },
  {
   "source": [
    "release the videocapture object"
   ],
   "cell_type": "markdown",
   "metadata": {}
  },
  {
   "cell_type": "code",
   "execution_count": 28,
   "metadata": {},
   "outputs": [],
   "source": [
    "cap.release()\n",
    "cv2.destroyAllWindows()"
   ]
  }
 ]
}